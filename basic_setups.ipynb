{
  "nbformat": 4,
  "nbformat_minor": 0,
  "metadata": {
    "colab": {
      "name": "basic_setups.ipynb",
      "provenance": [],
      "collapsed_sections": [],
      "mount_file_id": "1YLm2Ecc5ALTJ3hFwI3mpc4NUErT_63I_",
      "authorship_tag": "ABX9TyP5UwjplIsNCJiMXpVgkGBN",
      "include_colab_link": true
    },
    "kernelspec": {
      "name": "python3",
      "display_name": "Python 3"
    },
    "language_info": {
      "name": "python"
    },
    "accelerator": "GPU",
    "gpuClass": "standard"
  },
  "cells": [
    {
      "cell_type": "markdown",
      "metadata": {
        "id": "view-in-github",
        "colab_type": "text"
      },
      "source": [
        "<a href=\"https://colab.research.google.com/github/pritamqu/ELEC872/blob/master/basic_setups.ipynb\" target=\"_parent\"><img src=\"https://colab.research.google.com/assets/colab-badge.svg\" alt=\"Open In Colab\"/></a>"
      ]
    },
    {
      "cell_type": "code",
      "execution_count": null,
      "metadata": {
        "id": "Z4qzmh7pA1ya",
        "colab": {
          "base_uri": "https://localhost:8080/"
        },
        "outputId": "0b6511cb-d35a-4e40-ae73-9dc8f35a1316"
      },
      "outputs": [
        {
          "output_type": "stream",
          "name": "stdout",
          "text": [
            "Drive already mounted at /content/drive; to attempt to forcibly remount, call drive.mount(\"/content/drive\", force_remount=True).\n"
          ]
        }
      ],
      "source": [
        "\"\"\"\n",
        "setup path for data loading:\n",
        "make sure to connect the google drive with colab, \n",
        "this will ensure your data, logs etc. remain available after the session \n",
        "disconnects.\n",
        "\"\"\"\n",
        "\n",
        "# mount the google drive\n",
        "from google.colab import drive\n",
        "drive.mount('/content/drive')\n",
        "\n",
        "import os\n",
        "# will create a dir to store our data\n",
        "data_dir=\"/content/drive/MyDrive/Data/\"\n",
        "os.makedirs(data_dir, exist_ok=True)"
      ]
    },
    {
      "cell_type": "code",
      "source": [
        "\"\"\"\n",
        "data can be loaded in several ways; directly on google-drive/gui/command prompt.\n",
        "i prefer using command line arguments, but you may run the following lines\n",
        "to load data using gui.\n",
        "\"\"\"\n",
        "\n",
        "# uploading dataset from local storage using GUI\n",
        "# from google.colab import files\n",
        "# files.upload()\n",
        "# this will prompt to locate files...\n",
        "\n",
        "# as an example will download mnist here\n",
        "os.makedirs(os.path.join(data_dir, 'mnist'), exist_ok=True)\n",
        "!wget \"http://yann.lecun.com/exdb/mnist/train-images-idx3-ubyte.gz\" -P \"/content/drive/MyDrive/Data/mnist\"\n",
        "!wget \"http://yann.lecun.com/exdb/mnist/train-labels-idx1-ubyte.gz\" -P \"/content/drive/MyDrive/Data/mnist\"\n",
        "!wget \"http://yann.lecun.com/exdb/mnist/t10k-images-idx3-ubyte.gz\" -P \"/content/drive/MyDrive/Data/mnist\"\n",
        "!wget \"http://yann.lecun.com/exdb/mnist/t10k-labels-idx1-ubyte.gz\" -P \"/content/drive/MyDrive/Data/mnist\"\n",
        "!echo mnist downloaded at \"/content/drive/MyDrive/Data/mnist\""
      ],
      "metadata": {
        "id": "qrf3qAvFI8XW",
        "colab": {
          "base_uri": "https://localhost:8080/"
        },
        "outputId": "e40c4f67-82e7-40db-ad25-02dfc80cfc49"
      },
      "execution_count": null,
      "outputs": [
        {
          "output_type": "stream",
          "name": "stdout",
          "text": [
            "--2022-08-09 04:59:08--  http://yann.lecun.com/exdb/mnist/train-images-idx3-ubyte.gz\n",
            "Resolving yann.lecun.com (yann.lecun.com)... 104.21.29.36, 172.67.171.76, 2606:4700:130:436c:6f75:6466:6c61:7265\n",
            "Connecting to yann.lecun.com (yann.lecun.com)|104.21.29.36|:80... connected.\n",
            "HTTP request sent, awaiting response... 200 OK\n",
            "Length: 9912422 (9.5M) [application/x-gzip]\n",
            "Saving to: ‘/content/drive/MyDrive/Data/mnist/train-images-idx3-ubyte.gz.1’\n",
            "\n",
            "train-images-idx3-u 100%[===================>]   9.45M  49.1MB/s    in 0.2s    \n",
            "\n",
            "2022-08-09 04:59:08 (49.1 MB/s) - ‘/content/drive/MyDrive/Data/mnist/train-images-idx3-ubyte.gz.1’ saved [9912422/9912422]\n",
            "\n",
            "--2022-08-09 04:59:08--  http://yann.lecun.com/exdb/mnist/train-labels-idx1-ubyte.gz\n",
            "Resolving yann.lecun.com (yann.lecun.com)... 104.21.29.36, 172.67.171.76, 2606:4700:130:436c:6f75:6466:6c61:7265\n",
            "Connecting to yann.lecun.com (yann.lecun.com)|104.21.29.36|:80... connected.\n",
            "HTTP request sent, awaiting response... 200 OK\n",
            "Length: 28881 (28K) [application/x-gzip]\n",
            "Saving to: ‘/content/drive/MyDrive/Data/mnist/train-labels-idx1-ubyte.gz.1’\n",
            "\n",
            "train-labels-idx1-u 100%[===================>]  28.20K  --.-KB/s    in 0.003s  \n",
            "\n",
            "2022-08-09 04:59:08 (10.7 MB/s) - ‘/content/drive/MyDrive/Data/mnist/train-labels-idx1-ubyte.gz.1’ saved [28881/28881]\n",
            "\n",
            "--2022-08-09 04:59:08--  http://yann.lecun.com/exdb/mnist/t10k-images-idx3-ubyte.gz\n",
            "Resolving yann.lecun.com (yann.lecun.com)... 104.21.29.36, 172.67.171.76, 2606:4700:130:436c:6f75:6466:6c61:7265\n",
            "Connecting to yann.lecun.com (yann.lecun.com)|104.21.29.36|:80... connected.\n",
            "HTTP request sent, awaiting response... 200 OK\n",
            "Length: 1648877 (1.6M) [application/x-gzip]\n",
            "Saving to: ‘/content/drive/MyDrive/Data/mnist/t10k-images-idx3-ubyte.gz.1’\n",
            "\n",
            "t10k-images-idx3-ub 100%[===================>]   1.57M  --.-KB/s    in 0.02s   \n",
            "\n",
            "2022-08-09 04:59:08 (79.1 MB/s) - ‘/content/drive/MyDrive/Data/mnist/t10k-images-idx3-ubyte.gz.1’ saved [1648877/1648877]\n",
            "\n",
            "--2022-08-09 04:59:08--  http://yann.lecun.com/exdb/mnist/t10k-labels-idx1-ubyte.gz\n",
            "Resolving yann.lecun.com (yann.lecun.com)... 104.21.29.36, 172.67.171.76, 2606:4700:130:436c:6f75:6466:6c61:7265\n",
            "Connecting to yann.lecun.com (yann.lecun.com)|104.21.29.36|:80... connected.\n",
            "HTTP request sent, awaiting response... 200 OK\n",
            "Length: 4542 (4.4K) [application/x-gzip]\n",
            "Saving to: ‘/content/drive/MyDrive/Data/mnist/t10k-labels-idx1-ubyte.gz.1’\n",
            "\n",
            "t10k-labels-idx1-ub 100%[===================>]   4.44K  --.-KB/s    in 0s      \n",
            "\n",
            "2022-08-09 04:59:09 (257 MB/s) - ‘/content/drive/MyDrive/Data/mnist/t10k-labels-idx1-ubyte.gz.1’ saved [4542/4542]\n",
            "\n",
            "mnist downloaded at /content/drive/MyDrive/Data/mnist\n"
          ]
        }
      ]
    },
    {
      "cell_type": "code",
      "source": [
        "\"\"\"\n",
        "colab comes with pre-installed pkgs, but incase you need something, here is an\n",
        "example to download package in colab.\n",
        "\"\"\"\n",
        "! pip install pandas"
      ],
      "metadata": {
        "id": "-jkvl3YAOAWT",
        "colab": {
          "base_uri": "https://localhost:8080/"
        },
        "outputId": "1338bfaf-b3ef-49ad-b973-68c2ddad3d42"
      },
      "execution_count": null,
      "outputs": [
        {
          "output_type": "stream",
          "name": "stdout",
          "text": [
            "Looking in indexes: https://pypi.org/simple, https://us-python.pkg.dev/colab-wheels/public/simple/\n",
            "Requirement already satisfied: pandas in /usr/local/lib/python3.7/dist-packages (1.3.5)\n",
            "Requirement already satisfied: python-dateutil>=2.7.3 in /usr/local/lib/python3.7/dist-packages (from pandas) (2.8.2)\n",
            "Requirement already satisfied: numpy>=1.17.3 in /usr/local/lib/python3.7/dist-packages (from pandas) (1.21.6)\n",
            "Requirement already satisfied: pytz>=2017.3 in /usr/local/lib/python3.7/dist-packages (from pandas) (2022.1)\n",
            "Requirement already satisfied: six>=1.5 in /usr/local/lib/python3.7/dist-packages (from python-dateutil>=2.7.3->pandas) (1.15.0)\n"
          ]
        }
      ]
    },
    {
      "cell_type": "code",
      "source": [
        "# will create another dir to store the outputs; will require later\n",
        "import os\n",
        "out_dir=\"/content/drive/MyDrive/Output/\"\n",
        "os.makedirs(out_dir, exist_ok=True)"
      ],
      "metadata": {
        "id": "DP7ET9C48w_7"
      },
      "execution_count": null,
      "outputs": []
    },
    {
      "cell_type": "code",
      "source": [
        "\"\"\"\n",
        "using GPU.\n",
        "Colab gives free GPU service for a limited time (12 hours).\n",
        "to enable GPU service, please do the following:\n",
        "Runtime-> Change Runtime type -> choose Hardware accelerator <GPU> -> save.\n",
        "\"\"\"\n",
        "# run the below command to see the available GPU. \n",
        "%system nvidia-smi"
      ],
      "metadata": {
        "id": "JT4uzqf99Jlz",
        "outputId": "70f1cc0d-9b32-4a7b-80e5-0d0f055c9b67",
        "colab": {
          "base_uri": "https://localhost:8080/"
        }
      },
      "execution_count": 1,
      "outputs": [
        {
          "output_type": "execute_result",
          "data": {
            "text/plain": [
              "['Tue Aug  9 05:17:30 2022       ',\n",
              " '+-----------------------------------------------------------------------------+',\n",
              " '| NVIDIA-SMI 460.32.03    Driver Version: 460.32.03    CUDA Version: 11.2     |',\n",
              " '|-------------------------------+----------------------+----------------------+',\n",
              " '| GPU  Name        Persistence-M| Bus-Id        Disp.A | Volatile Uncorr. ECC |',\n",
              " '| Fan  Temp  Perf  Pwr:Usage/Cap|         Memory-Usage | GPU-Util  Compute M. |',\n",
              " '|                               |                      |               MIG M. |',\n",
              " '|===============================+======================+======================|',\n",
              " '|   0  Tesla T4            Off  | 00000000:00:04.0 Off |                    0 |',\n",
              " '| N/A   42C    P8     9W /  70W |      0MiB / 15109MiB |      0%      Default |',\n",
              " '|                               |                      |                  N/A |',\n",
              " '+-------------------------------+----------------------+----------------------+',\n",
              " '                                                                               ',\n",
              " '+-----------------------------------------------------------------------------+',\n",
              " '| Processes:                                                                  |',\n",
              " '|  GPU   GI   CI        PID   Type   Process name                  GPU Memory |',\n",
              " '|        ID   ID                                                   Usage      |',\n",
              " '|=============================================================================|',\n",
              " '|  No running processes found                                                 |',\n",
              " '+-----------------------------------------------------------------------------+']"
            ]
          },
          "metadata": {},
          "execution_count": 1
        }
      ]
    },
    {
      "cell_type": "code",
      "source": [
        ""
      ],
      "metadata": {
        "id": "OX0reB9IBlSK"
      },
      "execution_count": null,
      "outputs": []
    }
  ]
}