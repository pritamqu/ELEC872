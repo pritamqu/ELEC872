{
  "nbformat": 4,
  "nbformat_minor": 0,
  "metadata": {
    "colab": {
      "name": "basic_setups.ipynb",
      "provenance": [],
      "collapsed_sections": [],
      "mount_file_id": "1NJrDjcM_YP1Z9s0pY6BH1a-5tdj1sWL6",
      "authorship_tag": "ABX9TyNhGwl/NzMzDaMfRbrUoz0v",
      "include_colab_link": true
    },
    "kernelspec": {
      "name": "python3",
      "display_name": "Python 3"
    },
    "language_info": {
      "name": "python"
    }
  },
  "cells": [
    {
      "cell_type": "markdown",
      "metadata": {
        "id": "view-in-github",
        "colab_type": "text"
      },
      "source": [
        "<a href=\"https://colab.research.google.com/github/pritamqu/ELEC872/blob/master/basic_setups.ipynb\" target=\"_parent\"><img src=\"https://colab.research.google.com/assets/colab-badge.svg\" alt=\"Open In Colab\"/></a>"
      ]
    },
    {
      "cell_type": "code",
      "execution_count": null,
      "metadata": {
        "id": "Z4qzmh7pA1ya",
        "colab": {
          "base_uri": "https://localhost:8080/"
        },
        "outputId": "750d8ae5-33bf-4d2d-e842-819d7f9ff2e7"
      },
      "outputs": [
        {
          "output_type": "stream",
          "name": "stdout",
          "text": [
            "Drive already mounted at /content/drive; to attempt to forcibly remount, call drive.mount(\"/content/drive\", force_remount=True).\n"
          ]
        }
      ],
      "source": [
        "\"\"\"\n",
        "setup path for data loading:\n",
        "make sure to connect the google drive with colab, \n",
        "this will ensure your data, logs etc. remain available after the session \n",
        "disconnects.\n",
        "\"\"\"\n",
        "\n",
        "# mount the google drive\n",
        "from google.colab import drive\n",
        "drive.mount('/content/drive')\n",
        "\n",
        "import os\n",
        "# will create a dir to store our data\n",
        "data_dir=\"/content/drive/MyDrive/Data/\"\n",
        "os.makedirs(data_dir, exist_ok=True)"
      ]
    },
    {
      "cell_type": "code",
      "source": [
        "\"\"\"\n",
        "data can be loaded in several ways; directly on google-drive/gui/command prompt.\n",
        "i prefer using command line arguments, but you may run the following lines\n",
        "to load data using gui.\n",
        "\"\"\"\n",
        "\n",
        "# uploading dataset from local storage using GUI\n",
        "# from google.colab import files\n",
        "# files.upload()\n",
        "# this will prompt to locate files...\n",
        "\n",
        "# as an example will download mnist here\n",
        "os.makedirs(os.path.join(data_dir, 'mnist'), exist_ok=True)\n",
        "!wget \"http://yann.lecun.com/exdb/mnist/train-images-idx3-ubyte.gz\" -P \"/content/drive/MyDrive/Data/mnist\"\n",
        "!wget \"http://yann.lecun.com/exdb/mnist/train-labels-idx1-ubyte.gz\" -P \"/content/drive/MyDrive/Data/mnist\"\n",
        "!wget \"http://yann.lecun.com/exdb/mnist/t10k-images-idx3-ubyte.gz\" -P \"/content/drive/MyDrive/Data/mnist\"\n",
        "!wget \"http://yann.lecun.com/exdb/mnist/t10k-labels-idx1-ubyte.gz\" -P \"/content/drive/MyDrive/Data/mnist\"\n",
        "!echo mnist downloaded at \"/content/drive/MyDrive/Data/mnist\""
      ],
      "metadata": {
        "id": "qrf3qAvFI8XW"
      },
      "execution_count": null,
      "outputs": []
    },
    {
      "cell_type": "code",
      "source": [
        "\"\"\"\n",
        "colab comes with pre-installed pkgs, but incase you need something, here is an\n",
        "example to download package in colab.\n",
        "\"\"\"\n",
        "! pip install pandas"
      ],
      "metadata": {
        "id": "-jkvl3YAOAWT",
        "colab": {
          "base_uri": "https://localhost:8080/"
        },
        "outputId": "cbefffa5-f0fe-48da-dc42-156ffc87a8a6"
      },
      "execution_count": null,
      "outputs": [
        {
          "output_type": "stream",
          "name": "stdout",
          "text": [
            "Looking in indexes: https://pypi.org/simple, https://us-python.pkg.dev/colab-wheels/public/simple/\n",
            "Requirement already satisfied: pandas in /usr/local/lib/python3.7/dist-packages (1.3.5)\n",
            "Requirement already satisfied: numpy>=1.17.3 in /usr/local/lib/python3.7/dist-packages (from pandas) (1.21.6)\n",
            "Requirement already satisfied: python-dateutil>=2.7.3 in /usr/local/lib/python3.7/dist-packages (from pandas) (2.8.2)\n",
            "Requirement already satisfied: pytz>=2017.3 in /usr/local/lib/python3.7/dist-packages (from pandas) (2022.1)\n",
            "Requirement already satisfied: six>=1.5 in /usr/local/lib/python3.7/dist-packages (from python-dateutil>=2.7.3->pandas) (1.15.0)\n"
          ]
        }
      ]
    },
    {
      "cell_type": "code",
      "source": [
        "# will create another dir to store the outputs; will require later\n",
        "import os\n",
        "out_dir=\"/content/drive/MyDrive/Output/\"\n",
        "os.makedirs(out_dir, exist_ok=True)"
      ],
      "metadata": {
        "id": "DP7ET9C48w_7"
      },
      "execution_count": null,
      "outputs": []
    },
    {
      "cell_type": "code",
      "source": [
        ""
      ],
      "metadata": {
        "id": "JT4uzqf99Jlz"
      },
      "execution_count": null,
      "outputs": []
    }
  ]
}