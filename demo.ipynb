{
  "nbformat": 4,
  "nbformat_minor": 0,
  "metadata": {
    "colab": {
      "name": "demo.ipynb",
      "provenance": [],
      "collapsed_sections": [],
      "mount_file_id": "1YLm2Ecc5ALTJ3hFwI3mpc4NUErT_63I_",
      "authorship_tag": "ABX9TyPv7Gs7NYrkZfXnW0TAGkwE",
      "include_colab_link": true
    },
    "kernelspec": {
      "name": "python3",
      "display_name": "Python 3"
    },
    "language_info": {
      "name": "python"
    }
  },
  "cells": [
    {
      "cell_type": "markdown",
      "metadata": {
        "id": "view-in-github",
        "colab_type": "text"
      },
      "source": [
        "<a href=\"https://colab.research.google.com/github/pritamqu/ELEC872/blob/master/demo.ipynb\" target=\"_parent\"><img src=\"https://colab.research.google.com/assets/colab-badge.svg\" alt=\"Open In Colab\"/></a>"
      ]
    },
    {
      "cell_type": "code",
      "execution_count": null,
      "metadata": {
        "id": "Z4qzmh7pA1ya",
        "colab": {
          "base_uri": "https://localhost:8080/"
        },
        "outputId": "0b6511cb-d35a-4e40-ae73-9dc8f35a1316"
      },
      "outputs": [
        {
          "output_type": "stream",
          "name": "stdout",
          "text": [
            "Drive already mounted at /content/drive; to attempt to forcibly remount, call drive.mount(\"/content/drive\", force_remount=True).\n"
          ]
        }
      ],
      "source": [
        "\"\"\"\n",
        "make sure to mount the drive at the beginning of main script while using colab.\n",
        "\"\"\"\n",
        "# mount the google drive\n",
        "from google.colab import drive\n",
        "drive.mount('/content/drive')\n",
        "\n",
        "# define paths\n",
        "data_dir=\"/content/drive/MyDrive/Data/\"\n",
        "out_dir=\"/content/drive/MyDrive/Output/\""
      ]
    }
  ]
}