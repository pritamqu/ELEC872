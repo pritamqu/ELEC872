{
  "nbformat": 4,
  "nbformat_minor": 0,
  "metadata": {
    "colab": {
      "name": "demo.ipynb",
      "provenance": [],
      "collapsed_sections": [],
      "mount_file_id": "1NJrDjcM_YP1Z9s0pY6BH1a-5tdj1sWL6",
      "authorship_tag": "ABX9TyOTk6AozpNSFqhYP1RUuOGv",
      "include_colab_link": true
    },
    "kernelspec": {
      "name": "python3",
      "display_name": "Python 3"
    },
    "language_info": {
      "name": "python"
    }
  },
  "cells": [
    {
      "cell_type": "markdown",
      "metadata": {
        "id": "view-in-github",
        "colab_type": "text"
      },
      "source": [
        "<a href=\"https://colab.research.google.com/github/pritamqu/ELEC872/blob/master/demo.ipynb\" target=\"_parent\"><img src=\"https://colab.research.google.com/assets/colab-badge.svg\" alt=\"Open In Colab\"/></a>"
      ]
    },
    {
      "cell_type": "code",
      "execution_count": null,
      "metadata": {
        "id": "Z4qzmh7pA1ya",
        "colab": {
          "base_uri": "https://localhost:8080/"
        },
        "outputId": "1a33d4d5-f260-4659-9775-b8b2a8eb1da6"
      },
      "outputs": [
        {
          "output_type": "stream",
          "name": "stdout",
          "text": [
            "Drive already mounted at /content/drive; to attempt to forcibly remount, call drive.mount(\"/content/drive\", force_remount=True).\n"
          ]
        }
      ],
      "source": [
        "# loading data in colab\n",
        "\n",
        "# mount the google drive\n",
        "from google.colab import drive\n",
        "drive.mount('/content/drive')\n",
        "\n",
        "# will create a dir to store our data\n",
        "data_dir=\"/content/drive/MyDrive/Data/\"\n",
        "import os\n",
        "os.makedirs(data_dir, exist_ok=True)\n",
        "\n"
      ]
    },
    {
      "cell_type": "code",
      "source": [
        "# uploading dataset from local storage using GUI\n",
        "# i don't like GUI so avoiding this\n",
        "# from google.colab import files\n",
        "# files.upload()"
      ],
      "metadata": {
        "id": "qrf3qAvFI8XW"
      },
      "execution_count": null,
      "outputs": []
    },
    {
      "cell_type": "code",
      "source": [
        "# will download mnist here\n",
        "mnist_path=os.path.join(data_dir, 'mnist')\n",
        "os.makedirs(mnist_path, exist_ok=True)\n",
        "print(f\"created directory {mnist_path}\")"
      ],
      "metadata": {
        "colab": {
          "base_uri": "https://localhost:8080/"
        },
        "id": "43s-oL3ALo5M",
        "outputId": "f456815c-996d-4579-f887-d68d91bf5c39"
      },
      "execution_count": null,
      "outputs": [
        {
          "output_type": "stream",
          "name": "stdout",
          "text": [
            "created directory /content/drive/MyDrive/Data/mnist\n"
          ]
        }
      ]
    },
    {
      "cell_type": "code",
      "source": [
        "!wget \"http://yann.lecun.com/exdb/mnist/train-images-idx3-ubyte.gz\" -P ${mnist_path}\n",
        "!wget \"http://yann.lecun.com/exdb/mnist/train-labels-idx1-ubyte.gz\" -P ${mnist_path}\n",
        "!wget \"http://yann.lecun.com/exdb/mnist/t10k-images-idx3-ubyte.gz\" -P ${mnist_path}\n",
        "!wget \"http://yann.lecun.com/exdb/mnist/t10k-labels-idx1-ubyte.gz\" -P ${mnist_path}\n",
        "! echo mnist downloaded at ${mnist_path}"
      ],
      "metadata": {
        "colab": {
          "base_uri": "https://localhost:8080/"
        },
        "id": "6m8AUHpWL5_b",
        "outputId": "079d48a1-e81d-4ae3-e05a-4442148a0871"
      },
      "execution_count": null,
      "outputs": [
        {
          "output_type": "stream",
          "name": "stdout",
          "text": [
            "--2022-08-09 01:28:18--  http://yann.lecun.com/exdb/mnist/train-images-idx3-ubyte.gz\n",
            "Resolving yann.lecun.com (yann.lecun.com)... 104.21.29.36, 172.67.171.76, 2606:4700:3034::6815:1d24, ...\n",
            "Connecting to yann.lecun.com (yann.lecun.com)|104.21.29.36|:80... connected.\n",
            "HTTP request sent, awaiting response... 200 OK\n",
            "Length: 9912422 (9.5M) [application/x-gzip]\n",
            "Saving to: ‘$/content/drive/MyDrive/Data/mnist/train-images-idx3-ubyte.gz’\n",
            "\n",
            "train-images-idx3-u 100%[===================>]   9.45M  48.3MB/s    in 0.2s    \n",
            "\n",
            "2022-08-09 01:28:18 (48.3 MB/s) - ‘$/content/drive/MyDrive/Data/mnist/train-images-idx3-ubyte.gz’ saved [9912422/9912422]\n",
            "\n",
            "--2022-08-09 01:28:18--  http://yann.lecun.com/exdb/mnist/train-labels-idx1-ubyte.gz\n",
            "Resolving yann.lecun.com (yann.lecun.com)... 104.21.29.36, 172.67.171.76, 2606:4700:3034::6815:1d24, ...\n",
            "Connecting to yann.lecun.com (yann.lecun.com)|104.21.29.36|:80... connected.\n",
            "HTTP request sent, awaiting response... 200 OK\n",
            "Length: 28881 (28K) [application/x-gzip]\n",
            "Saving to: ‘$/content/drive/MyDrive/Data/mnist/train-labels-idx1-ubyte.gz’\n",
            "\n",
            "train-labels-idx1-u 100%[===================>]  28.20K  --.-KB/s    in 0s      \n",
            "\n",
            "2022-08-09 01:28:18 (431 MB/s) - ‘$/content/drive/MyDrive/Data/mnist/train-labels-idx1-ubyte.gz’ saved [28881/28881]\n",
            "\n",
            "--2022-08-09 01:28:18--  http://yann.lecun.com/exdb/mnist/t10k-images-idx3-ubyte.gz\n",
            "Resolving yann.lecun.com (yann.lecun.com)... 104.21.29.36, 172.67.171.76, 2606:4700:3034::6815:1d24, ...\n",
            "Connecting to yann.lecun.com (yann.lecun.com)|104.21.29.36|:80... connected.\n",
            "HTTP request sent, awaiting response... 200 OK\n",
            "Length: 1648877 (1.6M) [application/x-gzip]\n",
            "Saving to: ‘$/content/drive/MyDrive/Data/mnist/t10k-images-idx3-ubyte.gz’\n",
            "\n",
            "t10k-images-idx3-ub 100%[===================>]   1.57M  --.-KB/s    in 0.07s   \n",
            "\n",
            "2022-08-09 01:28:18 (22.6 MB/s) - ‘$/content/drive/MyDrive/Data/mnist/t10k-images-idx3-ubyte.gz’ saved [1648877/1648877]\n",
            "\n",
            "--2022-08-09 01:28:18--  http://yann.lecun.com/exdb/mnist/t10k-labels-idx1-ubyte.gz\n",
            "Resolving yann.lecun.com (yann.lecun.com)... 104.21.29.36, 172.67.171.76, 2606:4700:3034::6815:1d24, ...\n",
            "Connecting to yann.lecun.com (yann.lecun.com)|104.21.29.36|:80... connected.\n",
            "HTTP request sent, awaiting response... 200 OK\n",
            "Length: 4542 (4.4K) [application/x-gzip]\n",
            "Saving to: ‘$/content/drive/MyDrive/Data/mnist/t10k-labels-idx1-ubyte.gz’\n",
            "\n",
            "t10k-labels-idx1-ub 100%[===================>]   4.44K  --.-KB/s    in 0s      \n",
            "\n",
            "2022-08-09 01:28:18 (462 MB/s) - ‘$/content/drive/MyDrive/Data/mnist/t10k-labels-idx1-ubyte.gz’ saved [4542/4542]\n",
            "\n"
          ]
        }
      ]
    },
    {
      "cell_type": "code",
      "source": [
        ""
      ],
      "metadata": {
        "colab": {
          "base_uri": "https://localhost:8080/"
        },
        "id": "InK1-oIZL-0V",
        "outputId": "050ab260-bbda-428f-dfa9-95b1cfa1c316"
      },
      "execution_count": null,
      "outputs": [
        {
          "output_type": "stream",
          "name": "stdout",
          "text": [
            "mnist downloaded at $/content/drive/MyDrive/Data/mnist\n"
          ]
        }
      ]
    },
    {
      "cell_type": "code",
      "source": [
        ""
      ],
      "metadata": {
        "id": "-jkvl3YAOAWT"
      },
      "execution_count": null,
      "outputs": []
    }
  ]
}