{
  "nbformat": 4,
  "nbformat_minor": 0,
  "metadata": {
    "colab": {
      "name": "demo.ipynb",
      "provenance": [],
      "collapsed_sections": [],
      "mount_file_id": "1NJrDjcM_YP1Z9s0pY6BH1a-5tdj1sWL6",
      "authorship_tag": "ABX9TyMqU816aH/j9phy/L1tIdwZ",
      "include_colab_link": true
    },
    "kernelspec": {
      "name": "python3",
      "display_name": "Python 3"
    },
    "language_info": {
      "name": "python"
    }
  },
  "cells": [
    {
      "cell_type": "markdown",
      "metadata": {
        "id": "view-in-github",
        "colab_type": "text"
      },
      "source": [
        "<a href=\"https://colab.research.google.com/github/pritamqu/ELEC872/blob/master/demo.ipynb\" target=\"_parent\"><img src=\"https://colab.research.google.com/assets/colab-badge.svg\" alt=\"Open In Colab\"/></a>"
      ]
    },
    {
      "cell_type": "code",
      "execution_count": null,
      "metadata": {
        "id": "Z4qzmh7pA1ya",
        "colab": {
          "base_uri": "https://localhost:8080/"
        },
        "outputId": "750d8ae5-33bf-4d2d-e842-819d7f9ff2e7"
      },
      "outputs": [
        {
          "output_type": "stream",
          "name": "stdout",
          "text": [
            "Drive already mounted at /content/drive; to attempt to forcibly remount, call drive.mount(\"/content/drive\", force_remount=True).\n"
          ]
        }
      ],
      "source": [
        "\"\"\"\n",
        "setup path for data loading:\n",
        "make sure to connect the google drive with colab, \n",
        "this will ensure your data, logs etc. remain available after the session \n",
        "disconnects.\n",
        "\"\"\"\n",
        "\n",
        "# mount the google drive\n",
        "from google.colab import drive\n",
        "drive.mount('/content/drive')\n",
        "\n",
        "import os\n",
        "# will create a dir to store our data\n",
        "data_dir=\"/content/drive/MyDrive/Data/\"\n",
        "os.makedirs(data_dir, exist_ok=True)"
      ]
    },
    {
      "cell_type": "code",
      "source": [
        "\"\"\"\n",
        "data can be loaded in several ways; directly on google-drive/gui/command prompt.\n",
        "i prefer using command line arguments, but you may run the following lines\n",
        "to load data using gui.\n",
        "\"\"\"\n",
        "\n",
        "# uploading dataset from local storage using GUI\n",
        "# from google.colab import files\n",
        "# files.upload()\n",
        "# this will prompt to locate files...\n",
        "\n",
        "# as an example will download mnist here\n",
        "os.makedirs(os.path.join(data_dir, 'mnist'), exist_ok=True)\n",
        "!wget \"http://yann.lecun.com/exdb/mnist/train-images-idx3-ubyte.gz\" -P \"/content/drive/MyDrive/Data/mnist\"\n",
        "!wget \"http://yann.lecun.com/exdb/mnist/train-labels-idx1-ubyte.gz\" -P \"/content/drive/MyDrive/Data/mnist\"\n",
        "!wget \"http://yann.lecun.com/exdb/mnist/t10k-images-idx3-ubyte.gz\" -P \"/content/drive/MyDrive/Data/mnist\"\n",
        "!wget \"http://yann.lecun.com/exdb/mnist/t10k-labels-idx1-ubyte.gz\" -P \"/content/drive/MyDrive/Data/mnist\"\n",
        "!echo mnist downloaded at \"/content/drive/MyDrive/Data/mnist\""
      ],
      "metadata": {
        "id": "qrf3qAvFI8XW"
      },
      "execution_count": null,
      "outputs": []
    },
    {
      "cell_type": "code",
      "source": [
        ""
      ],
      "metadata": {
        "id": "-jkvl3YAOAWT"
      },
      "execution_count": null,
      "outputs": []
    }
  ]
}